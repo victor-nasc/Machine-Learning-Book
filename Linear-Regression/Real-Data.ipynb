{
 "cells": [
  {
   "cell_type": "markdown",
   "id": "e312090c",
   "metadata": {},
   "source": [
    "# Linear Regression from Scratch\n",
    "\n",
    "## Real Data Analysis\n",
    "\n",
    "#### Author: Victor Nascimento Ribeiro - January 2024"
   ]
  },
  {
   "cell_type": "markdown",
   "id": "00a9112d",
   "metadata": {},
   "source": [
    "For a detailed explanation of the functions, please refer to the `linear_regression.py` file."
   ]
  },
  {
   "cell_type": "code",
   "execution_count": 1,
   "id": "d5534d66",
   "metadata": {},
   "outputs": [],
   "source": [
    "import matplotlib.pyplot as plt\n",
    "import numpy as np\n",
    "\n",
    "from sklearn.model_selection import train_test_split\n",
    "from sklearn.datasets import load_diabetes\n",
    "\n",
    "from linear_regression import linear_regression"
   ]
  },
  {
   "cell_type": "markdown",
   "id": "c3e4c992",
   "metadata": {},
   "source": [
    "# Diabetes Dataset\n",
    "\n",
    "## Overview\n",
    "The Diabetes dataset is a popular dataset for regression analysis and is included in the scikit-learn library. It contains ten baseline variables, such as age, BMI, blood pressure, and six blood serum measurements for **442** diabetes patients. The target variable is a quantitative measure of disease progression one year after baseline.\n",
    "\n",
    "## Features \n",
    "1. Age: Age in years.\n",
    "2. Sex: A binary variable indicating gender.\n",
    "3. BMI: Body mass index.\n",
    "4. BP: Average blood pressure.\n",
    "5. S1: Total serum cholesterol.\n",
    "6. S2: Low-density lipoproteins (LDL cholesterol).\n",
    "7. S3: High-density lipoproteins (HDL cholesterol).\n",
    "8. S4: Total cholesterol / HDL cholesterol ratio.\n",
    "9. S5: Log of serum triglycerides level.\n",
    "10. S6: Blood sugar level.\n",
    "\n",
    "## Target\n",
    "- A quantitative measure of disease progression one year after baseline.\n"
   ]
  },
  {
   "cell_type": "code",
   "execution_count": 2,
   "id": "3df5af5c",
   "metadata": {},
   "outputs": [
    {
     "name": "stdout",
     "output_type": "stream",
     "text": [
      "input shape: (442, 10)\n",
      "target shape: (442,)\n"
     ]
    }
   ],
   "source": [
    "X, y = load_diabetes(return_X_y=True)\n",
    "\n",
    "print('input shape:', np.shape(X))\n",
    "print('target shape:', np.shape(y))"
   ]
  },
  {
   "cell_type": "code",
   "execution_count": 3,
   "id": "99972129",
   "metadata": {},
   "outputs": [
    {
     "name": "stdout",
     "output_type": "stream",
     "text": [
      "train input shape: (353, 10)\n",
      "train target shape: (353,)\n",
      "\n",
      "test input shape: (89, 10)\n",
      "test target shape: (89,)\n"
     ]
    }
   ],
   "source": [
    "X_train, X_test, y_train, y_test = train_test_split(X, y, test_size=0.2)\n",
    "\n",
    "print('train input shape:', np.shape(X_train))\n",
    "print('train target shape:', np.shape(y_train))\n",
    "print()\n",
    "print('test input shape:', np.shape(X_test))\n",
    "print('test target shape:', np.shape(y_test))"
   ]
  },
  {
   "cell_type": "markdown",
   "id": "492dafef",
   "metadata": {},
   "source": [
    "# Training"
   ]
  },
  {
   "cell_type": "markdown",
   "id": "6532958b",
   "metadata": {},
   "source": [
    "## Analytical solution"
   ]
  },
  {
   "cell_type": "code",
   "execution_count": 4,
   "id": "5e036a64",
   "metadata": {},
   "outputs": [],
   "source": [
    "model = linear_regression()\n",
    "\n",
    "model.fit_analytical(X_train, y_train)"
   ]
  },
  {
   "cell_type": "code",
   "execution_count": 5,
   "id": "cd115789",
   "metadata": {},
   "outputs": [
    {
     "name": "stdout",
     "output_type": "stream",
     "text": [
      "MSE:  3231.702440099009\n",
      "R2:  0.4492714882157802\n"
     ]
    }
   ],
   "source": [
    "r2, mse = model.evaluate(X_test, y_test)\n",
    "print('MSE: ', mse)\n",
    "print('R2: ', r2)"
   ]
  },
  {
   "cell_type": "markdown",
   "id": "7cea5f9c",
   "metadata": {},
   "source": [
    "## Iterative solution (Gradient Descent)"
   ]
  },
  {
   "cell_type": "code",
   "execution_count": 6,
   "id": "713e95fc",
   "metadata": {},
   "outputs": [],
   "source": [
    "model.fit(X_train, y_train, lr=0.01, epochs=25000)"
   ]
  },
  {
   "cell_type": "code",
   "execution_count": 7,
   "id": "0648b618",
   "metadata": {},
   "outputs": [],
   "source": [
    "loss_history = model.loss_history"
   ]
  },
  {
   "cell_type": "code",
   "execution_count": 8,
   "id": "c61d6b20",
   "metadata": {},
   "outputs": [
    {
     "data": {
      "image/png": "[encoded data removed]",
      "text/plain": [
       "<Figure size 1000x400 with 1 Axes>"
      ]
     },
     "metadata": {},
     "output_type": "display_data"
    }
   ],
   "source": [
    "# plot loss\n",
    "plt.figure(figsize=(10, 4))\n",
    "plt.plot(loss_history)\n",
    "plt.title(\"Loss  x  epochs\")\n",
    "plt.xlabel(\"epochs\")\n",
    "plt.ylabel(\"MSE\")\n",
    "plt.show()"
   ]
  },
  {
   "cell_type": "code",
   "execution_count": 9,
   "id": "fb66f028",
   "metadata": {},
   "outputs": [
    {
     "name": "stdout",
     "output_type": "stream",
     "text": [
      "MSE:  3395.2042365662205\n",
      "R2:  0.4214084337695685\n"
     ]
    }
   ],
   "source": [
    "r2, mse = model.evaluate(X_test, y_test)\n",
    "print('MSE: ', mse)\n",
    "print('R2: ', r2)"
   ]
  },
  {
   "cell_type": "markdown",
   "id": "168fdf7e",
   "metadata": {},
   "source": [
    "## References\n",
    " - https://scikit-learn.org/stable/modules/generated/sklearn.datasets.load_diabetes.html\n",
    " - https://work.caltech.edu/telecourse (lecture 3)\n",
    " - Abu-Mostafa, Yaser S., Magdon-Ismail, Malik and Lin, Hsuan-Tien. Learning From Data. : AMLBook, 2012."
   ]
  },
  {
   "cell_type": "code",
   "execution_count": null,
   "id": "b2be4a25",
   "metadata": {},
   "outputs": [],
   "source": []
  }
 ],
 "metadata": {
  "kernelspec": {
   "display_name": "Python 3 (ipykernel)",
   "language": "python",
   "name": "python3"
  },
  "language_info": {
   "codemirror_mode": {
    "name": "ipython",
    "version": 3
   },
   "file_extension": ".py",
   "mimetype": "text/x-python",
   "name": "python",
   "nbconvert_exporter": "python",
   "pygments_lexer": "ipython3",
   "version": "3.10.9"
  }
 },
 "nbformat": 4,
 "nbformat_minor": 5
}
