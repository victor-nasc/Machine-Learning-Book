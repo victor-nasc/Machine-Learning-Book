{
 "cells": [
  {
   "cell_type": "markdown",
   "metadata": {
    "id": "0Xlrv-q3lz0Y"
   },
   "source": [
    "# MNIST Data-set\n",
    "\n",
    "### Victor Nascimento Ribeiro - 10/2022"
   ]
  },
  {
   "cell_type": "code",
   "execution_count": null,
   "metadata": {
    "id": "hrfu4onei4t9"
   },
   "outputs": [],
   "source": [
    "import tensorflow as tf\n",
    "from tensorflow import keras\n",
    "from tensorflow.keras.models import Sequential\n",
    "from tensorflow.keras.layers import Activation, Dense, Dropout\n",
    "from tensorflow.keras.optimizers import Adam\n",
    "from tensorflow.keras.metrics import categorical_crossentropy\n",
    "from tensorflow.keras.regularizers import l2\n",
    "import numpy as np"
   ]
  },
  {
   "cell_type": "markdown",
   "metadata": {
    "id": "3KMvgsdrmSel"
   },
   "source": [
    "## Download MNIST"
   ]
  },
  {
   "cell_type": "code",
   "execution_count": null,
   "metadata": {
    "id": "hr_CowcPjKng"
   },
   "outputs": [],
   "source": [
    "from keras.datasets import mnist\n",
    "\n",
    "(train_images, train_labels), (test_images, test_labels) = mnist.load_data()"
   ]
  },
  {
   "cell_type": "code",
   "execution_count": null,
   "metadata": {
    "id": "1bwKyOIkkuG4"
   },
   "outputs": [],
   "source": [
    "train_images = train_images.reshape((60000, 28 * 28))\n",
    "train_images = train_images.astype('float32') / 255\n",
    "\n",
    "test_images = test_images.reshape((10000, 28 * 28))\n",
    "test_images = test_images.astype('float32') / 255"
   ]
  },
  {
   "cell_type": "markdown",
   "metadata": {
    "id": "0P6lL7Oh05QB"
   },
   "source": [
    "## Without convolution"
   ]
  },
  {
   "cell_type": "markdown",
   "metadata": {},
   "source": [
    "## Building NN"
   ]
  },
  {
   "cell_type": "code",
   "execution_count": null,
   "metadata": {
    "id": "UTBWLwGxjSvc"
   },
   "outputs": [],
   "source": [
    "model = Sequential([\n",
    "    Dense(units=256, input_shape=(28*28,), activation='relu'),\n",
    "    Dense(units=128, activation='relu', kernel_regularizer=l2(0.001)),\n",
    "    Dense(units=64, activation='relu', kernel_regularizer=l2(0.001)),\n",
    "    Dropout(0.2),\n",
    "    Dense(units=10, activation='softmax')\n",
    "])"
   ]
  },
  {
   "cell_type": "code",
   "execution_count": null,
   "metadata": {
    "colab": {
     "base_uri": "https://localhost:8080/"
    },
    "id": "CVq5L_D9jm21",
    "outputId": "cadca273-018b-496b-d1c6-3633aa4cce1d"
   },
   "outputs": [
    {
     "name": "stdout",
     "output_type": "stream",
     "text": [
      "Model: \"sequential_16\"\n",
      "_________________________________________________________________\n",
      " Layer (type)                Output Shape              Param #   \n",
      "=================================================================\n",
      " dense_16 (Dense)            (None, 256)               200960    \n",
      "                                                                 \n",
      " dense_17 (Dense)            (None, 128)               32896     \n",
      "                                                                 \n",
      " dense_18 (Dense)            (None, 64)                8256      \n",
      "                                                                 \n",
      " dropout_2 (Dropout)         (None, 64)                0         \n",
      "                                                                 \n",
      " dense_19 (Dense)            (None, 10)                650       \n",
      "                                                                 \n",
      "=================================================================\n",
      "Total params: 242,762\n",
      "Trainable params: 242,762\n",
      "Non-trainable params: 0\n",
      "_________________________________________________________________\n"
     ]
    }
   ],
   "source": [
    "model.summary()"
   ]
  },
  {
   "cell_type": "markdown",
   "metadata": {
    "id": "NxIP1SiwmsPN"
   },
   "source": [
    "## Training"
   ]
  },
  {
   "cell_type": "code",
   "execution_count": null,
   "metadata": {
    "id": "GhBUftpxjpGT"
   },
   "outputs": [],
   "source": [
    "model.compile(optimizer=Adam(learning_rate=0.0003),\n",
    "              loss='sparse_categorical_crossentropy', # not one-hot ecoded\n",
    "              metrics=['accuracy'])"
   ]
  },
  {
   "cell_type": "code",
   "execution_count": null,
   "metadata": {
    "colab": {
     "base_uri": "https://localhost:8080/"
    },
    "id": "HvUyDWCVkCbk",
    "outputId": "fa48fa5b-b22b-4c47-becf-a5f008245a48"
   },
   "outputs": [
    {
     "name": "stdout",
     "output_type": "stream",
     "text": [
      "Epoch 1/15\n",
      "375/375 [==============================] - 2s 5ms/step - loss: 0.8181 - accuracy: 0.8337 - val_loss: 0.4288 - val_accuracy: 0.9399\n",
      "Epoch 2/15\n",
      "375/375 [==============================] - 1s 4ms/step - loss: 0.4295 - accuracy: 0.9339 - val_loss: 0.3478 - val_accuracy: 0.9539\n",
      "Epoch 3/15\n",
      "375/375 [==============================] - 1s 4ms/step - loss: 0.3478 - accuracy: 0.9531 - val_loss: 0.3028 - val_accuracy: 0.9621\n",
      "Epoch 4/15\n",
      "375/375 [==============================] - 1s 4ms/step - loss: 0.2992 - accuracy: 0.9608 - val_loss: 0.2776 - val_accuracy: 0.9643\n",
      "Epoch 5/15\n",
      "375/375 [==============================] - 1s 4ms/step - loss: 0.2619 - accuracy: 0.9672 - val_loss: 0.2505 - val_accuracy: 0.9680\n",
      "Epoch 6/15\n",
      "375/375 [==============================] - 1s 4ms/step - loss: 0.2305 - accuracy: 0.9730 - val_loss: 0.2290 - val_accuracy: 0.9710\n",
      "Epoch 7/15\n",
      "375/375 [==============================] - 1s 4ms/step - loss: 0.2072 - accuracy: 0.9763 - val_loss: 0.2132 - val_accuracy: 0.9712\n",
      "Epoch 8/15\n",
      "375/375 [==============================] - 1s 4ms/step - loss: 0.1875 - accuracy: 0.9795 - val_loss: 0.1970 - val_accuracy: 0.9747\n",
      "Epoch 9/15\n",
      "375/375 [==============================] - 1s 4ms/step - loss: 0.1679 - accuracy: 0.9822 - val_loss: 0.1839 - val_accuracy: 0.9753\n",
      "Epoch 10/15\n",
      "375/375 [==============================] - 1s 4ms/step - loss: 0.1549 - accuracy: 0.9834 - val_loss: 0.1777 - val_accuracy: 0.9745\n",
      "Epoch 11/15\n",
      "375/375 [==============================] - 1s 4ms/step - loss: 0.1418 - accuracy: 0.9851 - val_loss: 0.1635 - val_accuracy: 0.9759\n",
      "Epoch 12/15\n",
      "375/375 [==============================] - 1s 4ms/step - loss: 0.1298 - accuracy: 0.9863 - val_loss: 0.1577 - val_accuracy: 0.9774\n",
      "Epoch 13/15\n",
      "375/375 [==============================] - 1s 3ms/step - loss: 0.1194 - accuracy: 0.9878 - val_loss: 0.1487 - val_accuracy: 0.9774\n",
      "Epoch 14/15\n",
      "375/375 [==============================] - 1s 4ms/step - loss: 0.1106 - accuracy: 0.9893 - val_loss: 0.1472 - val_accuracy: 0.9777\n",
      "Epoch 15/15\n",
      "375/375 [==============================] - 1s 4ms/step - loss: 0.1023 - accuracy: 0.9901 - val_loss: 0.1398 - val_accuracy: 0.9772\n"
     ]
    }
   ],
   "source": [
    "history = model.fit(train_images,\n",
    "          train_labels,\n",
    "          epochs=15,\n",
    "          batch_size=128,\n",
    "          verbose=1,\n",
    "          validation_split=0.2)"
   ]
  },
  {
   "cell_type": "markdown",
   "metadata": {
    "id": "BV6tiIjwmwgM"
   },
   "source": [
    "## Testing"
   ]
  },
  {
   "cell_type": "code",
   "execution_count": null,
   "metadata": {
    "colab": {
     "base_uri": "https://localhost:8080/"
    },
    "id": "XbR84fbOkU_Q",
    "outputId": "0121a7ec-cc86-43f5-f925-6dfc3fef678e"
   },
   "outputs": [
    {
     "name": "stdout",
     "output_type": "stream",
     "text": [
      "313/313 [==============================] - 1s 2ms/step - loss: 0.1331 - accuracy: 0.9776\n"
     ]
    }
   ],
   "source": [
    "test_loss, test_acc = model.evaluate(test_images, test_labels)"
   ]
  },
  {
   "cell_type": "code",
   "execution_count": null,
   "metadata": {
    "colab": {
     "base_uri": "https://localhost:8080/"
    },
    "id": "AR-4b-S3luJi",
    "outputId": "9818f6f6-544b-4c21-ab39-0d6857369dda"
   },
   "outputs": [
    {
     "name": "stdout",
     "output_type": "stream",
     "text": [
      "test_acc: 0.9775999784469604\n"
     ]
    }
   ],
   "source": [
    "print('test_acc:', test_acc)"
   ]
  },
  {
   "cell_type": "code",
   "execution_count": null,
   "metadata": {
    "id": "TMapqHAyYHH2"
   },
   "outputs": [],
   "source": [
    "prediction = model.predict(x=test_images, batch_size=128, verbose=0)"
   ]
  },
  {
   "cell_type": "markdown",
   "metadata": {
    "id": "Z3RHVBK_aSRA"
   },
   "source": [
    "## Results"
   ]
  },
  {
   "cell_type": "code",
   "execution_count": null,
   "metadata": {
    "colab": {
     "base_uri": "https://localhost:8080/"
    },
    "id": "DcA93IFToruQ",
    "outputId": "e141e0f8-2458-4180-e6da-b8dd1f511b6d"
   },
   "outputs": [
    {
     "data": {
      "text/plain": [
       "dict_keys(['loss', 'accuracy', 'val_loss', 'val_accuracy'])"
      ]
     },
     "execution_count": 82,
     "metadata": {},
     "output_type": "execute_result"
    }
   ],
   "source": [
    "history_dict = history.history\n",
    "history_dict.keys()"
   ]
  },
  {
   "cell_type": "code",
   "execution_count": null,
   "metadata": {
    "colab": {
     "base_uri": "https://localhost:8080/",
     "height": 297
    },
    "id": "aYW0iMtuAmfO",
    "outputId": "718cc15e-e8b7-4fb3-9199-dca34987b28b"
   },
   "outputs": [
    {
     "data": {
      "image/png": "[encoded data removed]",
      "text/plain": [
       "<Figure size 432x288 with 1 Axes>"
      ]
     },
     "metadata": {
      "needs_background": "light"
     },
     "output_type": "display_data"
    }
   ],
   "source": [
    "import matplotlib.pyplot as plt\n",
    "%matplotlib inline\n",
    "\n",
    "acc = history.history['accuracy']\n",
    "val_acc = history.history['val_accuracy']\n",
    "loss = history.history['loss']\n",
    "val_loss = history.history['val_loss']\n",
    "\n",
    "epochs = range(1, len(acc) + 1)\n",
    "\n",
    "plt.plot(epochs, loss, c='red', label='Training loss')\n",
    "plt.plot(epochs, val_loss, c='blue', label='Validation loss')\n",
    "plt.title('Loss')\n",
    "plt.xlabel('Épocas')\n",
    "plt.ylabel('Loss')\n",
    "plt.legend()\n",
    "\n",
    "plt.show()"
   ]
  },
  {
   "cell_type": "code",
   "execution_count": null,
   "metadata": {
    "colab": {
     "base_uri": "https://localhost:8080/",
     "height": 295
    },
    "id": "eu-SwQA8BCFQ",
    "outputId": "a0703369-fbea-4b81-a755-8cd537777431"
   },
   "outputs": [
    {
     "data": {
      "image/png": "[encoded data removed]",
      "text/plain": [
       "<Figure size 432x288 with 1 Axes>"
      ]
     },
     "metadata": {
      "needs_background": "light"
     },
     "output_type": "display_data"
    }
   ],
   "source": [
    "acc_values = history_dict['accuracy']\n",
    "val_acc_values = history_dict['val_accuracy']\n",
    "\n",
    "plt.plot(epochs, acc, c='red', label='Training acc')\n",
    "plt.plot(epochs, val_acc, c='blue', label='Validation acc')\n",
    "plt.title('Accuracy')\n",
    "plt.xlabel('Epochs')\n",
    "plt.ylabel('Loss')\n",
    "plt.legend()\n",
    "\n",
    "plt.show()"
   ]
  },
  {
   "cell_type": "markdown",
   "metadata": {
    "id": "CXNnrrUTkyVw"
   },
   "source": [
    "## CNN"
   ]
  },
  {
   "cell_type": "code",
   "execution_count": null,
   "metadata": {
    "id": "XOKfnraAkzTI"
   },
   "outputs": [],
   "source": [
    "from tensorflow.keras.layers import Activation, Dense, Flatten, BatchNormalization, Conv2D, MaxPool2D\n",
    "\n",
    "(train_images, train_labels), (test_images, test_labels) = mnist.load_data()\n",
    "\n",
    "train_images = train_images.astype('float32') / 255\n",
    "test_images = test_images.astype('float32') / 255"
   ]
  },
  {
   "cell_type": "markdown",
   "metadata": {
    "id": "7nm1ebOj2Rsr"
   },
   "source": [
    "### Building CNN"
   ]
  },
  {
   "cell_type": "code",
   "execution_count": null,
   "metadata": {
    "id": "xGNPaf9Qle7f"
   },
   "outputs": [],
   "source": [
    "model = Sequential([\n",
    "        Conv2D(filters=32, kernel_size=(3,3), activation='relu', padding='same', input_shape=(28,28,1)),\n",
    "        Conv2D(filters=32, kernel_size=(3,3), activation='relu', padding='same'),\n",
    "        MaxPool2D(pool_size=(2,2)), # strides vem por padrao igual o tamanho do kernel\n",
    "        Conv2D(filters=64, kernel_size=(3,3), activation='relu', padding='same'),\n",
    "        Conv2D(filters=64, kernel_size=(3,3), activation='relu', padding='same'),\n",
    "        MaxPool2D(pool_size=(2,2)),\n",
    "        Flatten(),\n",
    "        Dense(128, activation='relu', kernel_regularizer=l2(0.001)),\n",
    "        Dropout(0.2),\n",
    "        Dense(units=10, activation='softmax')\n",
    "])"
   ]
  },
  {
   "cell_type": "code",
   "execution_count": null,
   "metadata": {
    "colab": {
     "base_uri": "https://localhost:8080/"
    },
    "id": "VfDC_2oCl6th",
    "outputId": "c27a5ded-c0ce-4eb0-c96b-a227a7dcfb4d"
   },
   "outputs": [
    {
     "name": "stdout",
     "output_type": "stream",
     "text": [
      "Model: \"sequential_17\"\n",
      "_________________________________________________________________\n",
      " Layer (type)                Output Shape              Param #   \n",
      "=================================================================\n",
      " conv2d_4 (Conv2D)           (None, 28, 28, 32)        320       \n",
      "                                                                 \n",
      " conv2d_5 (Conv2D)           (None, 28, 28, 32)        9248      \n",
      "                                                                 \n",
      " max_pooling2d_2 (MaxPooling  (None, 14, 14, 32)       0         \n",
      " 2D)                                                             \n",
      "                                                                 \n",
      " conv2d_6 (Conv2D)           (None, 14, 14, 64)        18496     \n",
      "                                                                 \n",
      " conv2d_7 (Conv2D)           (None, 14, 14, 64)        36928     \n",
      "                                                                 \n",
      " max_pooling2d_3 (MaxPooling  (None, 7, 7, 64)         0         \n",
      " 2D)                                                             \n",
      "                                                                 \n",
      " flatten_1 (Flatten)         (None, 3136)              0         \n",
      "                                                                 \n",
      " dense_20 (Dense)            (None, 128)               401536    \n",
      "                                                                 \n",
      " dropout_3 (Dropout)         (None, 128)               0         \n",
      "                                                                 \n",
      " dense_21 (Dense)            (None, 10)                1290      \n",
      "                                                                 \n",
      "=================================================================\n",
      "Total params: 467,818\n",
      "Trainable params: 467,818\n",
      "Non-trainable params: 0\n",
      "_________________________________________________________________\n"
     ]
    }
   ],
   "source": [
    "model.summary()"
   ]
  },
  {
   "cell_type": "markdown",
   "metadata": {
    "id": "66o15eyb2PIS"
   },
   "source": [
    "## Training"
   ]
  },
  {
   "cell_type": "code",
   "execution_count": null,
   "metadata": {
    "id": "HYyi4Vzil8rJ"
   },
   "outputs": [],
   "source": [
    "model.compile(optimizer=Adam(learning_rate=0.0001),\n",
    "              loss='sparse_categorical_crossentropy', # not one-hot ecoded\n",
    "              metrics=['accuracy'])"
   ]
  },
  {
   "cell_type": "code",
   "execution_count": null,
   "metadata": {
    "colab": {
     "base_uri": "https://localhost:8080/"
    },
    "id": "ZUdXg1UwmFny",
    "outputId": "ac0d2d8d-8167-48ce-f059-99e59b168067"
   },
   "outputs": [
    {
     "name": "stdout",
     "output_type": "stream",
     "text": [
      "Epoch 1/15\n",
      "375/375 [==============================] - 5s 11ms/step - loss: 0.8121 - accuracy: 0.8201 - val_loss: 0.3219 - val_accuracy: 0.9553\n",
      "Epoch 2/15\n",
      "375/375 [==============================] - 4s 11ms/step - loss: 0.3014 - accuracy: 0.9559 - val_loss: 0.2377 - val_accuracy: 0.9734\n",
      "Epoch 3/15\n",
      "375/375 [==============================] - 4s 11ms/step - loss: 0.2371 - accuracy: 0.9696 - val_loss: 0.2047 - val_accuracy: 0.9787\n",
      "Epoch 4/15\n",
      "375/375 [==============================] - 4s 11ms/step - loss: 0.2024 - accuracy: 0.9768 - val_loss: 0.1815 - val_accuracy: 0.9822\n",
      "Epoch 5/15\n",
      "375/375 [==============================] - 4s 10ms/step - loss: 0.1823 - accuracy: 0.9794 - val_loss: 0.1647 - val_accuracy: 0.9842\n",
      "Epoch 6/15\n",
      "375/375 [==============================] - 4s 11ms/step - loss: 0.1642 - accuracy: 0.9828 - val_loss: 0.1514 - val_accuracy: 0.9856\n",
      "Epoch 7/15\n",
      "375/375 [==============================] - 4s 11ms/step - loss: 0.1488 - accuracy: 0.9846 - val_loss: 0.1443 - val_accuracy: 0.9851\n",
      "Epoch 8/15\n",
      "375/375 [==============================] - 4s 11ms/step - loss: 0.1350 - accuracy: 0.9857 - val_loss: 0.1354 - val_accuracy: 0.9860\n",
      "Epoch 9/15\n",
      "375/375 [==============================] - 4s 11ms/step - loss: 0.1239 - accuracy: 0.9875 - val_loss: 0.1238 - val_accuracy: 0.9872\n",
      "Epoch 10/15\n",
      "375/375 [==============================] - 4s 11ms/step - loss: 0.1150 - accuracy: 0.9879 - val_loss: 0.1194 - val_accuracy: 0.9871\n",
      "Epoch 11/15\n",
      "375/375 [==============================] - 4s 11ms/step - loss: 0.1059 - accuracy: 0.9897 - val_loss: 0.1183 - val_accuracy: 0.9862\n",
      "Epoch 12/15\n",
      "375/375 [==============================] - 4s 10ms/step - loss: 0.0980 - accuracy: 0.9900 - val_loss: 0.1068 - val_accuracy: 0.9876\n",
      "Epoch 13/15\n",
      "375/375 [==============================] - 4s 10ms/step - loss: 0.0894 - accuracy: 0.9915 - val_loss: 0.0987 - val_accuracy: 0.9895\n",
      "Epoch 14/15\n",
      "375/375 [==============================] - 4s 10ms/step - loss: 0.0829 - accuracy: 0.9919 - val_loss: 0.0974 - val_accuracy: 0.9884\n",
      "Epoch 15/15\n",
      "375/375 [==============================] - 4s 11ms/step - loss: 0.0788 - accuracy: 0.9921 - val_loss: 0.0938 - val_accuracy: 0.9883\n"
     ]
    }
   ],
   "source": [
    "history = model.fit(train_images,\n",
    "          train_labels,\n",
    "          epochs=15,\n",
    "          batch_size=128,\n",
    "          verbose=1,\n",
    "          validation_split=0.2)"
   ]
  },
  {
   "cell_type": "markdown",
   "metadata": {
    "id": "aJwEbN762Huw"
   },
   "source": [
    "## Testing"
   ]
  },
  {
   "cell_type": "code",
   "execution_count": null,
   "metadata": {
    "colab": {
     "base_uri": "https://localhost:8080/"
    },
    "id": "W_F3E2ancYt2",
    "outputId": "8bc702db-4594-4420-8abb-627cf4f4d23b"
   },
   "outputs": [
    {
     "name": "stdout",
     "output_type": "stream",
     "text": [
      "313/313 [==============================] - 1s 3ms/step - loss: 0.0843 - accuracy: 0.9904\n"
     ]
    }
   ],
   "source": [
    "test_loss, test_acc = model.evaluate(test_images, test_labels)"
   ]
  },
  {
   "cell_type": "code",
   "execution_count": null,
   "metadata": {
    "colab": {
     "base_uri": "https://localhost:8080/"
    },
    "id": "ph9cf5m5ca57",
    "outputId": "48e8155e-0c13-48e5-d1b5-851e042927d7"
   },
   "outputs": [
    {
     "name": "stdout",
     "output_type": "stream",
     "text": [
      "test_acc: 0.9904000163078308\n"
     ]
    }
   ],
   "source": [
    "print('test_acc:', test_acc) "
   ]
  },
  {
   "cell_type": "code",
   "execution_count": null,
   "metadata": {
    "id": "elBZwqjAcdF0"
   },
   "outputs": [],
   "source": [
    "prediction = model.predict(x=test_images, batch_size=128, verbose=0)"
   ]
  },
  {
   "cell_type": "markdown",
   "metadata": {
    "id": "59keuaOb2Ftq"
   },
   "source": [
    "## Results"
   ]
  },
  {
   "cell_type": "code",
   "execution_count": null,
   "metadata": {
    "colab": {
     "base_uri": "https://localhost:8080/"
    },
    "id": "0czh9BrsmfEn",
    "outputId": "7314a68e-d013-4362-e2a2-f0e679347452"
   },
   "outputs": [
    {
     "data": {
      "text/plain": [
       "dict_keys(['loss', 'accuracy', 'val_loss', 'val_accuracy'])"
      ]
     },
     "execution_count": 93,
     "metadata": {},
     "output_type": "execute_result"
    }
   ],
   "source": [
    "history_dict = history.history\n",
    "history_dict.keys()"
   ]
  },
  {
   "cell_type": "code",
   "execution_count": null,
   "metadata": {
    "colab": {
     "base_uri": "https://localhost:8080/",
     "height": 295
    },
    "id": "8WEk4xVImG8w",
    "outputId": "9455dd13-bdd5-4106-bb19-98deb60ab1c7"
   },
   "outputs": [
    {
     "data": {
      "image/png": "[encoded data removed]",
      "text/plain": [
       "<Figure size 432x288 with 1 Axes>"
      ]
     },
     "metadata": {
      "needs_background": "light"
     },
     "output_type": "display_data"
    }
   ],
   "source": [
    "acc = history.history['accuracy']\n",
    "val_acc = history.history['val_accuracy']\n",
    "loss = history.history['loss']\n",
    "val_loss = history.history['val_loss']\n",
    "\n",
    "epochs = range(1, len(acc) + 1)\n",
    "\n",
    "plt.plot(epochs, loss, c='red', label='Training loss')\n",
    "plt.plot(epochs, val_loss, c='blue', label='Validation loss')\n",
    "plt.title('Training and validation loss')\n",
    "plt.xlabel('Epochs')\n",
    "plt.ylabel('Loss')\n",
    "plt.legend()\n",
    "\n",
    "plt.show()"
   ]
  },
  {
   "cell_type": "code",
   "execution_count": null,
   "metadata": {
    "colab": {
     "base_uri": "https://localhost:8080/",
     "height": 295
    },
    "id": "v8e2Nv3Smj9v",
    "outputId": "570bc3a4-eb8a-48da-b2dd-acf6bd38f27a"
   },
   "outputs": [
    {
     "data": {
      "image/png": "[encoded data removed]",
      "text/plain": [
       "<Figure size 432x288 with 1 Axes>"
      ]
     },
     "metadata": {
      "needs_background": "light"
     },
     "output_type": "display_data"
    }
   ],
   "source": [
    "acc_values = history_dict['accuracy']\n",
    "val_acc_values = history_dict['val_accuracy']\n",
    "\n",
    "plt.plot(epochs, acc, c='red', label='Training acc')\n",
    "plt.plot(epochs, val_acc, c='blue', label='Validation acc')\n",
    "plt.title('Training and validation accuracy')\n",
    "plt.xlabel('Epochs')\n",
    "plt.ylabel('Loss')\n",
    "plt.legend()\n",
    "\n",
    "plt.show()"
   ]
  }
 ],
 "metadata": {
  "accelerator": "GPU",
  "colab": {
   "collapsed_sections": [],
   "provenance": []
  },
  "gpuClass": "standard",
  "kernelspec": {
   "display_name": "Python 3 (ipykernel)",
   "language": "python",
   "name": "python3"
  },
  "language_info": {
   "codemirror_mode": {
    "name": "ipython",
    "version": 3
   },
   "file_extension": ".py",
   "mimetype": "text/x-python",
   "name": "python",
   "nbconvert_exporter": "python",
   "pygments_lexer": "ipython3",
   "version": "3.10.9"
  }
 },
 "nbformat": 4,
 "nbformat_minor": 1
}
